{
 "cells": [
  {
   "cell_type": "markdown",
   "metadata": {},
   "source": [
    "#### Question no. 1"
   ]
  },
  {
   "cell_type": "code",
   "execution_count": 1,
   "metadata": {},
   "outputs": [
    {
     "name": "stdout",
     "output_type": "stream",
     "text": [
      "True\n"
     ]
    }
   ],
   "source": [
    "def isomorphic_strings(s, t):\n",
    "    if len(s) != len(t):\n",
    "        return False\n",
    "\n",
    "    mapping_s = {}\n",
    "    mapping_t = {}\n",
    "\n",
    "    for i in range(len(s)):\n",
    "        char_s = s[i]\n",
    "        char_t = t[i]\n",
    "\n",
    "        if char_s in mapping_s:\n",
    "            if mapping_s[char_s] != char_t:\n",
    "                return False\n",
    "        else:\n",
    "            mapping_s[char_s] = char_t\n",
    "\n",
    "        if char_t in mapping_t:\n",
    "            if mapping_t[char_t] != char_s:\n",
    "                return False\n",
    "        else:\n",
    "            mapping_t[char_t] = char_s\n",
    "\n",
    "    return True\n",
    "\n",
    "# Test case\n",
    "s = \"egg\"\n",
    "t = \"add\"\n",
    "print(isomorphic_strings(s, t))\n",
    "\n"
   ]
  },
  {
   "cell_type": "markdown",
   "metadata": {},
   "source": [
    "#### Question no : 2"
   ]
  },
  {
   "cell_type": "code",
   "execution_count": 2,
   "metadata": {},
   "outputs": [
    {
     "name": "stdout",
     "output_type": "stream",
     "text": [
      "True\n"
     ]
    }
   ],
   "source": [
    "def is_strobogrammatic(num):\n",
    "    # Define the valid pairs of strobogrammatic digits\n",
    "    valid_pairs = {'0': '0', '1': '1', '6': '9', '8': '8', '9': '6'}\n",
    "\n",
    "    # Initialize pointers at the start and end of the number\n",
    "    left = 0\n",
    "    right = len(num) - 1\n",
    "\n",
    "    # Iterate until the pointers meet or cross\n",
    "    while left <= right:\n",
    "        # Get the digits at the current positions\n",
    "        digit_left = num[left]\n",
    "        digit_right = num[right]\n",
    "\n",
    "        # If the pair is not valid, return False\n",
    "        if digit_left not in valid_pairs or digit_right not in valid_pairs:\n",
    "            return False\n",
    "\n",
    "        # If the pair is valid but the digits are not the same, return False\n",
    "        if valid_pairs[digit_left] != digit_right:\n",
    "            return False\n",
    "\n",
    "        # Move the pointers inward\n",
    "        left += 1\n",
    "        right -= 1\n",
    "\n",
    "    # If all pairs are valid, the number is strobogrammatic\n",
    "    return True\n",
    "\n",
    "# Test case\n",
    "num = \"69\"\n",
    "print(is_strobogrammatic(num))\n"
   ]
  },
  {
   "cell_type": "markdown",
   "metadata": {},
   "source": [
    "#### Question no: 3"
   ]
  },
  {
   "cell_type": "code",
   "execution_count": 4,
   "metadata": {},
   "outputs": [
    {
     "name": "stdout",
     "output_type": "stream",
     "text": [
      "134\n"
     ]
    }
   ],
   "source": [
    "def add_strings(num1, num2):\n",
    "    # Initialize pointers at the end of the input strings\n",
    "    i = len(num1) - 1\n",
    "    j = len(num2) - 1\n",
    "    carry = 0\n",
    "    result = []\n",
    "\n",
    "    # Iterate until both pointers reach the start of their respective strings\n",
    "    while i >= 0 or j >= 0:\n",
    "        # Get the digits at the current positions\n",
    "        digit1 = int(num1[i]) if i >= 0 else 0\n",
    "        digit2 = int(num2[j]) if j >= 0 else 0\n",
    "\n",
    "        # Calculate the sum of the digits and the carry\n",
    "        digit_sum = digit1 + digit2 + carry\n",
    "        carry = digit_sum // 10\n",
    "        digit_sum %= 10\n",
    "\n",
    "        # Prepend the sum digit to the result list\n",
    "        result.insert(0, str(digit_sum))\n",
    "\n",
    "        # Move the pointers inward\n",
    "        i -= 1\n",
    "        j -= 1\n",
    "\n",
    "    # If there is still a carry, prepend it to the result list\n",
    "    if carry:\n",
    "        result.insert(0, str(carry))\n",
    "\n",
    "    # Return the final sum as a string\n",
    "    return ''.join(result)\n",
    "\n",
    "# Test case\n",
    "num1 = \"11\"\n",
    "num2 = \"123\"\n",
    "print(add_strings(num1, num2))\n"
   ]
  },
  {
   "cell_type": "markdown",
   "metadata": {},
   "source": [
    "#### Question no : 4"
   ]
  },
  {
   "cell_type": "code",
   "execution_count": 5,
   "metadata": {},
   "outputs": [
    {
     "name": "stdout",
     "output_type": "stream",
     "text": [
      "s'teL ekat edoCteeL tsetnoc\n"
     ]
    }
   ],
   "source": [
    "def reverse_words(s):\n",
    "    # Split the sentence into individual words\n",
    "    words = s.split()\n",
    "\n",
    "    # Reverse each word in the list\n",
    "    reversed_words = [word[::-1] for word in words]\n",
    "\n",
    "    # Join the reversed words with whitespace to form the final sentence\n",
    "    reversed_sentence = ' '.join(reversed_words)\n",
    "\n",
    "    return reversed_sentence\n",
    "\n",
    "# Test case\n",
    "s = \"Let's take LeetCode contest\"\n",
    "print(reverse_words(s))\n"
   ]
  },
  {
   "cell_type": "markdown",
   "metadata": {},
   "source": [
    "#### Question no: 5"
   ]
  },
  {
   "cell_type": "code",
   "execution_count": 6,
   "metadata": {},
   "outputs": [
    {
     "name": "stdout",
     "output_type": "stream",
     "text": [
      "bacdfeg\n"
     ]
    }
   ],
   "source": [
    "def reverse_string(s, k):\n",
    "    # Convert the string to a list since strings are immutable in Python\n",
    "    s_list = list(s)\n",
    "    n = len(s_list)\n",
    "\n",
    "    for i in range(0, n, 2*k):\n",
    "        # Calculate the indices for reversing the first k characters\n",
    "        left = i\n",
    "        right = min(i+k-1, n-1)\n",
    "\n",
    "        # Reverse the first k characters in the current segment\n",
    "        while left < right:\n",
    "            s_list[left], s_list[right] = s_list[right], s_list[left]\n",
    "            left += 1\n",
    "            right -= 1\n",
    "\n",
    "    # Join the list back into a string\n",
    "    reversed_string = ''.join(s_list)\n",
    "    return reversed_string\n",
    "\n",
    "# Test case\n",
    "s = \"abcdefg\"\n",
    "k = 2\n",
    "print(reverse_string(s, k))\n"
   ]
  },
  {
   "cell_type": "markdown",
   "metadata": {},
   "source": [
    "#### Question no: 6"
   ]
  },
  {
   "cell_type": "code",
   "execution_count": 7,
   "metadata": {},
   "outputs": [
    {
     "name": "stdout",
     "output_type": "stream",
     "text": [
      "True\n"
     ]
    }
   ],
   "source": [
    "def can_shift(s, goal):\n",
    "    # Concatenate s with itself\n",
    "    s_double = s + s\n",
    "\n",
    "    # Check if goal is a substring of s_double\n",
    "    if goal in s_double:\n",
    "        return True\n",
    "    else:\n",
    "        return False\n",
    "\n",
    "# Test case\n",
    "s = \"abcde\"\n",
    "goal = \"cdeab\"\n",
    "print(can_shift(s, goal))\n"
   ]
  },
  {
   "cell_type": "markdown",
   "metadata": {},
   "source": [
    "#### Question no: 7"
   ]
  },
  {
   "cell_type": "code",
   "execution_count": 8,
   "metadata": {},
   "outputs": [
    {
     "name": "stdout",
     "output_type": "stream",
     "text": [
      "True\n"
     ]
    }
   ],
   "source": [
    "def backspace_compare(s, t):\n",
    "    def process_string(string):\n",
    "        stack = []\n",
    "        for char in string:\n",
    "            if char != '#':\n",
    "                stack.append(char)\n",
    "            elif stack:\n",
    "                stack.pop()\n",
    "        return ''.join(stack)\n",
    "\n",
    "    return process_string(s) == process_string(t)\n",
    "\n",
    "# Test case\n",
    "s = \"ab#c\"\n",
    "t = \"ad#c\"\n",
    "print(backspace_compare(s, t))\n"
   ]
  },
  {
   "cell_type": "markdown",
   "metadata": {},
   "source": [
    "#### Question no: 8"
   ]
  },
  {
   "cell_type": "code",
   "execution_count": 9,
   "metadata": {},
   "outputs": [
    {
     "name": "stdout",
     "output_type": "stream",
     "text": [
      "True\n"
     ]
    }
   ],
   "source": [
    "def check_straight_line(coordinates):\n",
    "    # Calculate the slope between the first two points\n",
    "    x0, y0 = coordinates[0]\n",
    "    x1, y1 = coordinates[1]\n",
    "    initial_slope = (y1 - y0) / (x1 - x0)\n",
    "\n",
    "    # Check the slope between each consecutive pair of points\n",
    "    for i in range(2, len(coordinates)):\n",
    "        xi, yi = coordinates[i]\n",
    "        slope = (yi - y0) / (xi - x0)\n",
    "\n",
    "        # If the current slope is not equal to the initial slope, return False\n",
    "        if slope != initial_slope:\n",
    "            return False\n",
    "\n",
    "    # All slopes are equal, so the points lie on a straight line\n",
    "    return True\n",
    "\n",
    "# Test case\n",
    "coordinates = [[1, 2], [2, 3], [3, 4], [4, 5], [5, 6], [6, 7]]\n",
    "print(check_straight_line(coordinates))\n"
   ]
  },
  {
   "cell_type": "markdown",
   "metadata": {},
   "source": [
    "#### thank you!"
   ]
  }
 ],
 "metadata": {
  "kernelspec": {
   "display_name": "Python 3",
   "language": "python",
   "name": "python3"
  },
  "language_info": {
   "codemirror_mode": {
    "name": "ipython",
    "version": 3
   },
   "file_extension": ".py",
   "mimetype": "text/x-python",
   "name": "python",
   "nbconvert_exporter": "python",
   "pygments_lexer": "ipython3",
   "version": "3.8.5"
  }
 },
 "nbformat": 4,
 "nbformat_minor": 4
}
